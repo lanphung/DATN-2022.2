{
 "cells": [
  {
   "cell_type": "code",
   "execution_count": 1,
   "id": "834ccc3f",
   "metadata": {},
   "outputs": [],
   "source": [
    "import pandas as pd\n",
    "import os\n",
    "path = \"/media/data/lanpd/driver_gene_project/dataset/\""
   ]
  },
  {
   "cell_type": "code",
   "execution_count": 2,
   "id": "ae89c5a0",
   "metadata": {},
   "outputs": [],
   "source": [
    "personal_ssm = [{} for sub in range(9000)]"
   ]
  },
  {
   "cell_type": "code",
   "execution_count": 3,
   "id": "f9897898",
   "metadata": {
    "lines_to_next_cell": 1
   },
   "outputs": [],
   "source": [
    "prj_codes = ['BLCA-US','BRCA-US','CESC-US','COAD-US','GBM-US','HNSC-US','KIRC-US','KIRP-US','LAML-US','LGG-US','LIHC-US','LUAD-US','LUSC-US',\n",
    "             'OV-US','PAAD-US','PRAD-US','READ-US','SKCM-US','STAD-US','THCA-US','UCEC-US']"
   ]
  },
  {
   "cell_type": "code",
   "execution_count": 4,
   "id": "894cd129",
   "metadata": {
    "lines_to_next_cell": 1
   },
   "outputs": [],
   "source": [
    "def _stat_generation():\n",
    "    stat_df = pd.DataFrame(index=['gene', 'patient'],columns=['BLCA-US','BRCA-US','CESC-US','COAD-US','GBM-US','HNSC-US','KIRC-US','KIRP-US','LAML-US','LGG-US','LIHC-US','LUAD-US','LUSC-US',\n",
    "             'OV-US','PAAD-US','PRAD-US','READ-US','SKCM-US','STAD-US','THCA-US','UCEC-US','total'])\n",
    "    gene_list = []\n",
    "    patient_list = []\n",
    "    with open(path+\"individual_stat.txt\",\"w\") as writer:\n",
    "        for item in prj_codes:\n",
    "            df = pd.read_table(path+f\"{item}/simple_somatic_mutation.open.{item}.tsv\",low_memory=False)\n",
    "            stat_df[item][0] = df['gene_affected'].nunique()\n",
    "            stat_df[item][1] = df['icgc_donor_id'].nunique()\n",
    "            [gene_list.append(x) for x in df['gene_affected']]\n",
    "            [patient_list.append(x) for x in df['icgc_donor_id']]\n",
    "            print(f\"done batch {item}!\")\n",
    "            writer.write(f\"{item}:\\n\")\n",
    "            for patient in df['icgc_donor_id'].unique():\n",
    "                pdf = df[df['icgc_donor_id'] == patient]\n",
    "                writer.write(f\"donor {patient}  {pdf['gene_affected'].nunique()} gen\\n\")\n",
    "            print(\"done individual!\")\n",
    "    stat_df['total'][0] = len(set(gene_list))\n",
    "    stat_df['total'][1] = len(set(patient_list))\n",
    "    stat_df.to_csv(path + \"gene_statistic.csv\")"
   ]
  },
  {
   "cell_type": "code",
   "execution_count": 5,
   "id": "f24b5d2d",
   "metadata": {
    "lines_to_next_cell": 1
   },
   "outputs": [],
   "source": [
    "def _prepare_batch_avinput(): #create annovar input files\n",
    "    # patient = []\n",
    "    # for item in prj_codes: #for somatic mutations\n",
    "    #     print(f\"begin {item}\")\n",
    "    #     df = pd.read_table(path+f\"{item}/simple_somatic_mutation.open.{item}.tsv\",low_memory=False)\n",
    "    #     [patient.append(x) for x in df['icgc_donor_id']]\n",
    "    #     with open(path+f\"{item}/{item}_batch.avinput\",\"w\") as writer:\n",
    "    #         for c,d,e,f,g,h in zip(df['chromosome'], df['chromosome_start'], df['chromosome_end'], df['mutated_from_allele'], df['mutated_to_allele'], df['icgc_donor_id']):\n",
    "    #             writer.write(f\"{c} {d} {e} {f} {g} {h}\\n\")\n",
    "    #             patient.append(h)\n",
    "    #     print(f\"finished {item}\")        \n",
    "    # with open(\"icgc_donor_list_SSM.txt\",\"w\") as writer:\n",
    "    #     [writer.write(f\"{x} \\n\") for x in set(patient)] \n",
    "\n",
    "\n",
    "    patient = []\n",
    "    for item in prj_codes: #for copy number variations\n",
    "        print(f\"begin {item}\")\n",
    "        df = pd.read_table(path+f\"{item}/copy_number_somatic_mutation.{item}.tsv\",low_memory=False)\n",
    "        with open(path+f\"{item}/{item}_CNV_batch.txt\",\"w\") as writer:\n",
    "            for c,d,e,f,g in zip(df['chromosome'], df['chromosome_start'], df['chromosome_end'], df['segment_mean'], df['icgc_donor_id']):\n",
    "                writer.write(f\"{c} {d} {e} {f} {g}\\n\")\n",
    "                patient.append(g)\n",
    "        print(f\"finished {item}\")\n",
    "    with open(\"icgc_donor_list_CNV.txt\",\"w\") as writer:\n",
    "        [writer.write(f\"{x} \\n\") for x in set(patient)] "
   ]
  },
  {
   "cell_type": "code",
   "execution_count": 6,
   "id": "3554e47d",
   "metadata": {
    "lines_to_next_cell": 1
   },
   "outputs": [],
   "source": [
    "def _prepare_personalized_avinput(): #create annovar input files\n",
    "    for item in prj_codes: #for somatic mutations\n",
    "        print(f\"begin {item}\")\n",
    "        df = pd.read_table(path+f\"{item}/simple_somatic_mutation.open.{item}.tsv\",low_memory=False)\n",
    "        for donor_id in set(df['icgc_donor_id']):\n",
    "            if not os.path.exists(path + f\"{item}/data/{donor_id}\"):\n",
    "                os.makedirs(path + f\"{item}/data/{donor_id}\", exist_ok=False) \n",
    "            with open(path+f\"{item}/data/{donor_id}/{donor_id}.avinput\",\"w\") as writer:\n",
    "                pdf = df[df['icgc_donor_id'] == donor_id] \n",
    "                for c,d,e,f,g in zip(pdf['chromosome'], pdf['chromosome_start'], pdf['chromosome_end'], pdf['mutated_from_allele'], pdf['mutated_to_allele']):\n",
    "                    writer.write(f\"{c} {d} {e} {f} {g} {donor_id}\\n\")\n",
    "        print(f\"finished {item}\")        \n",
    "\n",
    "\n",
    "    for item in prj_codes: #for copy number somatic mutations\n",
    "        print(f\"begin {item}\")\n",
    "        df = pd.read_table(path+f\"{item}/copy_number_somatic_mutation.{item}.tsv\",low_memory=False)\n",
    "        for donor_id in set(df['icgc_donor_id']):\n",
    "            if not os.path.exists(path + f\"{item}/data/{donor_id}\"):\n",
    "                os.makedirs(path + f\"{item}/data/{donor_id}\") \n",
    "            with open(path+f\"{item}/data/{donor_id}/{donor_id}_CNV.txt\",\"w\") as writer:\n",
    "                pdf = df[df['icgc_donor_id'] == donor_id] \n",
    "                for c,d,e,f in zip(pdf['chromosome'], pdf['chromosome_start'], pdf['chromosome_end'], pdf['segment_mean']):\n",
    "                    writer.write(f\"{c} {d} {e} {f} {donor_id}\\n\")\n",
    "        print(f\"finished {item}\")   "
   ]
  },
  {
   "cell_type": "code",
   "execution_count": 7,
   "id": "2fd320fd",
   "metadata": {
    "lines_to_next_cell": 1
   },
   "outputs": [],
   "source": [
    "def _tumor_id_suppply(): #supply the tumor_id column to all annovar outputs    \n",
    "    total = 0\n",
    "    for item in prj_codes: #for batch analysis\n",
    "        print(f\"begin {item}\")\n",
    "        patient = []\n",
    "        df = pd.read_table(path+f\"{item}/simple_somatic_mutation.open.{item}.tsv\",low_memory=False)\n",
    "        anno_output = pd.read_csv(path+f\"{item}/batch_input/{item}.hg19_multianno.csv\",engine=\"pyarrow\").reset_index(drop=True)\n",
    "        anno_output['tumor_id'] = df['icgc_donor_id']\n",
    "        anno_output.reset_index(drop=True).to_csv(path+f\"{item}/batch_input/{item}.hg19_multianno.csv\",index=False)\n",
    "        [patient.append(x) for x in df['icgc_donor_id']]\n",
    "        total += len(set(patient))\n",
    "        print(f\"finished {item}\")  \n",
    "    print(total)"
   ]
  },
  {
   "cell_type": "code",
   "execution_count": 8,
   "id": "17a06fec",
   "metadata": {
    "lines_to_next_cell": 1
   },
   "outputs": [],
   "source": [
    "def _create_patient_list():\n",
    "    for item in prj_codes: #for somatic mutations\n",
    "        print(f\"begin {item}\")\n",
    "        patient = []\n",
    "        df = pd.read_table(path+f\"{item}/simple_somatic_mutation.open.{item}.tsv\",low_memory=False)\n",
    "        [patient.append(x) for x in df['icgc_donor_id']]\n",
    "        with open(path + f\"{item}/data/{item}_ssm_patients.txt\",\"w\") as writer:\n",
    "            [writer.write(f\"{x}\\n\") for x in set(patient)]\n",
    "        print(f\"finished {item}\")  \n",
    "\n",
    "    for item in prj_codes: #for CNVs\n",
    "        print(f\"begin {item}\")\n",
    "        patient = []\n",
    "        df = pd.read_table(path+f\"{item}/copy_number_somatic_mutation.{item}.tsv\",low_memory=False)\n",
    "        [patient.append(x) for x in df['icgc_donor_id']]\n",
    "        with open(path + f\"{item}/data/{item}_cnsm_patients.txt\",\"w\") as writer:\n",
    "            [writer.write(f\"{x}\\n\") for x in set(patient)]\n",
    "        print(f\"finished {item}\")  "
   ]
  },
  {
   "cell_type": "code",
   "execution_count": 9,
   "id": "db6b21be",
   "metadata": {
    "lines_to_next_cell": 1
   },
   "outputs": [],
   "source": [
    "def _assign_labels():\n",
    "    census = pd.read_csv(\"\")\n",
    "    for item in prj_codes: #for somatic mutations\n",
    "        df = pd.read_csv(path+f\"{item}/{item}_driveR_features.csv\",low_memory=False)\n",
    "        census"
   ]
  },
  {
   "cell_type": "code",
   "execution_count": 10,
   "id": "3018f8aa",
   "metadata": {},
   "outputs": [],
   "source": [
    "def _prepare_features_files():\n",
    "    # with open(path+\"_all_individual_cmd.txt\",\"w\") as writer_p:\n",
    "    #     for item in prj_codes:\n",
    "    #         with open(path+f\"{item}/data/{item}_ssm_patients.txt\",\"r\") as writer:\n",
    "    #             _patient_ids = writer.readlines()\n",
    "    #             for idx in _patient_ids:\n",
    "    #                 id = idx.strip()         \n",
    "    #                 writer_p.write(f\"perl table_annovar.pl /media/data/lanpd/driver_gene_project/dataset/{item}/data/{id}/{id}.avinput humandb/ -buildver hg19 -out /media/data/lanpd/driver_gene_project/dataset/{item}/data/{id}/{item}_{id} -remove -protocol refGene,cytoBand,exac03,avsnp150,dbnsfp30a,cosmic98_coding,cosmic98_noncoding -operation gx,r,f,f,f,f,f -nastring . -csvout -polish\\n\")\n",
    "    # with open(path+\"_all_individual_cmd_pheno.txt\",\"w\") as writer_p:\n",
    "    #     for item in prj_codes:\n",
    "    #         with open(path+f\"{item}/data/{item}_ssm_patients.txt\",\"r\") as writer:\n",
    "    #             _patient_ids = writer.readlines()\n",
    "    #             for idx in _patient_ids:\n",
    "    #                 id = idx.strip()         \n",
    "    #                 writer_p.write(f\"perl table_annovar.pl /media/data/lanpd/driver_gene_project/dataset/{item}/data/{id}/{id}.avinput humandb/ -buildver hg19 -out /media/data/lanpd/driver_gene_project/dataset/{item}/data/{id}/{item}_{id} -remove -protocol refGene,cytoBand,exac03,avsnp150,dbnsfp30a,cosmic98_coding,cosmic98_noncoding -operation gx,r,f,f,f,f,f -nastring . -csvout -polish\\n\")\n",
    "    with open(path+\"_all_batches_cmd.txt\",\"w\") as writer_p:\n",
    "        for item in prj_codes:\n",
    "            writer_p.write(f\"perl table_annovar.pl /media/data/lanpd/driver_gene_project/dataset/{item}/{item}_batch.avinput humandb/ -buildver hg19 -out /media/data/lanpd/driver_gene_project/dataset/{item}/batch_input/{item} -remove -protocol refGene,cytoBand,exac03,avsnp150,dbnsfp30a,cosmic98_coding,cosmic98_noncoding -operation gx,r,f,f,f,f,f -nastring . -csvout -polish\\n\")"
   ]
  },
  {
   "cell_type": "code",
   "execution_count": null,
   "id": "392a7c62",
   "metadata": {},
   "outputs": [],
   "source": []
  },
  {
   "cell_type": "code",
   "execution_count": 11,
   "id": "4eaa0845",
   "metadata": {},
   "outputs": [
    {
     "name": "stdout",
     "output_type": "stream",
     "text": [
      "1180313 /media/data/lanpd/driver_gene_project/dataset/BLCA-US/simple_somatic_mutation.open.BLCA-US.tsv\n",
      "1180313 /media/data/lanpd/driver_gene_project/dataset/BLCA-US/batch_input/BLCA-US.hg19_multianno.csv\n",
      "941018 /media/data/lanpd/driver_gene_project/dataset/BRCA-US/simple_somatic_mutation.open.BRCA-US.tsv\n",
      "941018 /media/data/lanpd/driver_gene_project/dataset/BRCA-US/batch_input/BRCA-US.hg19_multianno.csv\n",
      "763083 /media/data/lanpd/driver_gene_project/dataset/CESC-US/simple_somatic_mutation.open.CESC-US.tsv\n",
      "763083 /media/data/lanpd/driver_gene_project/dataset/CESC-US/batch_input/CESC-US.hg19_multianno.csv\n",
      "2060051 /media/data/lanpd/driver_gene_project/dataset/COAD-US/simple_somatic_mutation.open.COAD-US.tsv\n",
      "2060051 /media/data/lanpd/driver_gene_project/dataset/COAD-US/batch_input/COAD-US.hg19_multianno.csv\n",
      "517357 /media/data/lanpd/driver_gene_project/dataset/GBM-US/simple_somatic_mutation.open.GBM-US.tsv\n",
      "517357 /media/data/lanpd/driver_gene_project/dataset/GBM-US/batch_input/GBM-US.hg19_multianno.csv\n",
      "916749 /media/data/lanpd/driver_gene_project/dataset/HNSC-US/simple_somatic_mutation.open.HNSC-US.tsv\n",
      "916749 /media/data/lanpd/driver_gene_project/dataset/HNSC-US/batch_input/HNSC-US.hg19_multianno.csv\n",
      "226714 /media/data/lanpd/driver_gene_project/dataset/KIRC-US/simple_somatic_mutation.open.KIRC-US.tsv\n",
      "226714 /media/data/lanpd/driver_gene_project/dataset/KIRC-US/batch_input/KIRC-US.hg19_multianno.csv\n",
      "272848 /media/data/lanpd/driver_gene_project/dataset/KIRP-US/simple_somatic_mutation.open.KIRP-US.tsv\n",
      "272848 /media/data/lanpd/driver_gene_project/dataset/KIRP-US/batch_input/KIRP-US.hg19_multianno.csv\n",
      "59565 /media/data/lanpd/driver_gene_project/dataset/LAML-US/simple_somatic_mutation.open.LAML-US.tsv\n",
      "59565 /media/data/lanpd/driver_gene_project/dataset/LAML-US/batch_input/LAML-US.hg19_multianno.csv\n",
      "295137 /media/data/lanpd/driver_gene_project/dataset/LGG-US/simple_somatic_mutation.open.LGG-US.tsv\n",
      "295137 /media/data/lanpd/driver_gene_project/dataset/LGG-US/batch_input/LGG-US.hg19_multianno.csv\n",
      "449912 /media/data/lanpd/driver_gene_project/dataset/LIHC-US/simple_somatic_mutation.open.LIHC-US.tsv\n",
      "449912 /media/data/lanpd/driver_gene_project/dataset/LIHC-US/batch_input/LIHC-US.hg19_multianno.csv\n",
      "1456859 /media/data/lanpd/driver_gene_project/dataset/LUAD-US/simple_somatic_mutation.open.LUAD-US.tsv\n",
      "1456859 /media/data/lanpd/driver_gene_project/dataset/LUAD-US/batch_input/LUAD-US.hg19_multianno.csv\n",
      "1438016 /media/data/lanpd/driver_gene_project/dataset/LUSC-US/simple_somatic_mutation.open.LUSC-US.tsv\n",
      "1438016 /media/data/lanpd/driver_gene_project/dataset/LUSC-US/batch_input/LUSC-US.hg19_multianno.csv\n",
      "393323 /media/data/lanpd/driver_gene_project/dataset/OV-US/simple_somatic_mutation.open.OV-US.tsv\n",
      "393323 /media/data/lanpd/driver_gene_project/dataset/OV-US/batch_input/OV-US.hg19_multianno.csv\n",
      "223520 /media/data/lanpd/driver_gene_project/dataset/PAAD-US/simple_somatic_mutation.open.PAAD-US.tsv\n",
      "223520 /media/data/lanpd/driver_gene_project/dataset/PAAD-US/batch_input/PAAD-US.hg19_multianno.csv\n",
      "240974 /media/data/lanpd/driver_gene_project/dataset/PRAD-US/simple_somatic_mutation.open.PRAD-US.tsv\n",
      "240974 /media/data/lanpd/driver_gene_project/dataset/PRAD-US/batch_input/PRAD-US.hg19_multianno.csv\n",
      "484487 /media/data/lanpd/driver_gene_project/dataset/READ-US/simple_somatic_mutation.open.READ-US.tsv\n",
      "484487 /media/data/lanpd/driver_gene_project/dataset/READ-US/batch_input/READ-US.hg19_multianno.csv\n",
      "3942807 /media/data/lanpd/driver_gene_project/dataset/SKCM-US/simple_somatic_mutation.open.SKCM-US.tsv\n",
      "3942807 /media/data/lanpd/driver_gene_project/dataset/SKCM-US/batch_input/SKCM-US.hg19_multianno.csv\n",
      "1707189 /media/data/lanpd/driver_gene_project/dataset/STAD-US/simple_somatic_mutation.open.STAD-US.tsv\n",
      "1707189 /media/data/lanpd/driver_gene_project/dataset/STAD-US/batch_input/STAD-US.hg19_multianno.csv\n",
      "94330 /media/data/lanpd/driver_gene_project/dataset/THCA-US/simple_somatic_mutation.open.THCA-US.tsv\n",
      "94330 /media/data/lanpd/driver_gene_project/dataset/THCA-US/batch_input/THCA-US.hg19_multianno.csv\n",
      "6607565 /media/data/lanpd/driver_gene_project/dataset/UCEC-US/simple_somatic_mutation.open.UCEC-US.tsv\n",
      "6607565 /media/data/lanpd/driver_gene_project/dataset/UCEC-US/batch_input/UCEC-US.hg19_multianno.csv\n"
     ]
    }
   ],
   "source": [
    "#_stat_generation()\n",
    "#_create_patient_list()\n",
    "#_prepare_batch_avinput()\n",
    "#_prepare_personalized_avinput()\n",
    "#_tumor_id_suppply()\n",
    "#_prepare_features_files()\n",
    "# for item in prj_codes:\n",
    "#     os.system(f\"find . -name \\{item}_CNV.txt -type f -delete\")\n",
    "for item in prj_codes:\n",
    "    os.system(f\"wc -l {path}{item}/simple_somatic_mutation.open.{item}.tsv\")\n",
    "    os.system(f\"wc -l {path}{item}/batch_input/{item}.hg19_multianno.csv\")"
   ]
  }
 ],
 "metadata": {
  "jupytext": {
   "cell_metadata_filter": "-all",
   "formats": "ipynb,py",
   "main_language": "python"
  },
  "kernelspec": {
   "display_name": "Python 3",
   "language": "python",
   "name": "python3"
  },
  "language_info": {
   "codemirror_mode": {
    "name": "ipython",
    "version": 3
   },
   "file_extension": ".py",
   "mimetype": "text/x-python",
   "name": "python",
   "nbconvert_exporter": "python",
   "pygments_lexer": "ipython3",
   "version": "3.10.6"
  }
 },
 "nbformat": 4,
 "nbformat_minor": 5
}
